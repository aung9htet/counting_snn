{
 "cells": [
  {
   "cell_type": "code",
   "execution_count": null,
   "metadata": {},
   "outputs": [],
   "source": [
    "import nest\n",
    "import numpy as np\n",
    "import matplotlib.pyplot as plt\n",
    "\n",
    "res = 0.1\n",
    "nest.resolution = res"
   ]
  },
  {
   "cell_type": "code",
   "execution_count": null,
   "metadata": {},
   "outputs": [],
   "source": [
    "frame = 100\n",
    "num_repeated = 25\n",
    "poi_gen = nest.Create('poisson_generator') # spikes per second\n",
    "nest.set_verbosity(\"M_ERROR\")\n",
    "poi_gen.rate = 100\n",
    "\n",
    "def get_spike_count():\n",
    "    nest.Simulate(frame)\n",
    "    events = spikerecorder.get(\"events\")\n",
    "    senders = events[\"senders\"]\n",
    "    return int(len(senders))\n",
    "\n",
    "spikerecorder = nest.Create(\"spike_recorder\")\n",
    "nest.Connect(poi_gen, spikerecorder)\n",
    "\n",
    "def run_spikes():\n",
    "    spike_total = 0\n",
    "    for i in range(num_repeated):\n",
    "        spikerecorder.n_events = 0\n",
    "        num_spikes = get_spike_count()\n",
    "        f = lambda spike: spike/((frame*res)/100)\n",
    "        spike_total += f(num_spikes)\n",
    "    spike_count = spike_total/num_repeated\n",
    "    print(\" Spike count average:\" + str(spike_count))\n",
    "\n",
    "run_spikes()"
   ]
  }
 ],
 "metadata": {
  "language_info": {
   "name": "python"
  }
 },
 "nbformat": 4,
 "nbformat_minor": 2
}
